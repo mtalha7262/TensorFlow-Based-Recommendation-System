{
 "cells": [
  {
   "cell_type": "code",
   "execution_count": 1,
   "id": "14e65625",
   "metadata": {},
   "outputs": [],
   "source": [
    "import numpy as np\n",
    "import pandas as pd\n",
    "import tensorflow as tf\n",
    "import tensorflow_recommenders as tfrs\n",
    "import tensorflow_datasets as tfds\n",
    "import matplotlib.pyplot as plt\n",
    "import seaborn as sns\n",
    "from zipfile import ZipFile\n",
    "from sklearn.model_selection import train_test_split\n",
    "from tensorflow.keras.layers import Embedding\n",
    "from tensorflow.keras.utils import get_file\n",
    "from sklearn.metrics import precision_score, recall_score, accuracy_score"
   ]
  },
  {
   "cell_type": "code",
   "execution_count": 2,
   "id": "d4b9fbc7",
   "metadata": {},
   "outputs": [],
   "source": [
    "# --- Load Dataset ---\n",
    "cols = ['userId', 'movieId', 'rating', 'timestamp']\n",
    "movies = tfds.load(\"movielens/100k-movies\", split=\"train\")\n",
    "movies_df = tfds.as_dataframe(movies)"
   ]
  },
  {
   "cell_type": "code",
   "execution_count": 3,
   "id": "dc6b032a",
   "metadata": {},
   "outputs": [],
   "source": [
    "# Decode byte strings\n",
    "movies_df['movie_id'] = movies_df['movie_id'].apply(lambda x: x.decode('utf-8') if isinstance(x, bytes) else x)\n",
    "movies_df['movie_title'] = movies_df['movie_title'].apply(lambda x: x.decode('utf-8') if isinstance(x, bytes) else x)\n",
    "movies_df['movie_id'] = movies_df['movie_id'].astype(int)\n",
    "movies_df.rename(columns={'movie_id': 'movieId'}, inplace=True)"
   ]
  },
  {
   "cell_type": "code",
   "execution_count": 4,
   "id": "4099235f",
   "metadata": {},
   "outputs": [
    {
     "data": {
      "text/html": [
       "<div>\n",
       "<style scoped>\n",
       "    .dataframe tbody tr th:only-of-type {\n",
       "        vertical-align: middle;\n",
       "    }\n",
       "\n",
       "    .dataframe tbody tr th {\n",
       "        vertical-align: top;\n",
       "    }\n",
       "\n",
       "    .dataframe thead th {\n",
       "        text-align: right;\n",
       "    }\n",
       "</style>\n",
       "<table border=\"1\" class=\"dataframe\">\n",
       "  <thead>\n",
       "    <tr style=\"text-align: right;\">\n",
       "      <th></th>\n",
       "      <th>movie_genres</th>\n",
       "      <th>movieId</th>\n",
       "      <th>movie_title</th>\n",
       "      <th>genre_names</th>\n",
       "    </tr>\n",
       "  </thead>\n",
       "  <tbody>\n",
       "    <tr>\n",
       "      <th>0</th>\n",
       "      <td>[4]</td>\n",
       "      <td>1681</td>\n",
       "      <td>You So Crazy (1994)</td>\n",
       "      <td>[Comedy]</td>\n",
       "    </tr>\n",
       "    <tr>\n",
       "      <th>1</th>\n",
       "      <td>[4, 7]</td>\n",
       "      <td>1457</td>\n",
       "      <td>Love Is All There Is (1996)</td>\n",
       "      <td>[Comedy, Drama]</td>\n",
       "    </tr>\n",
       "    <tr>\n",
       "      <th>2</th>\n",
       "      <td>[1, 3]</td>\n",
       "      <td>500</td>\n",
       "      <td>Fly Away Home (1996)</td>\n",
       "      <td>[Adventure, Children]</td>\n",
       "    </tr>\n",
       "    <tr>\n",
       "      <th>3</th>\n",
       "      <td>[0]</td>\n",
       "      <td>838</td>\n",
       "      <td>In the Line of Duty 2 (1987)</td>\n",
       "      <td>[Action]</td>\n",
       "    </tr>\n",
       "    <tr>\n",
       "      <th>4</th>\n",
       "      <td>[7]</td>\n",
       "      <td>1648</td>\n",
       "      <td>Niagara, Niagara (1997)</td>\n",
       "      <td>[Drama]</td>\n",
       "    </tr>\n",
       "  </tbody>\n",
       "</table>\n",
       "</div>"
      ],
      "text/plain": [
       "  movie_genres  movieId                   movie_title            genre_names\n",
       "0          [4]     1681           You So Crazy (1994)               [Comedy]\n",
       "1       [4, 7]     1457   Love Is All There Is (1996)        [Comedy, Drama]\n",
       "2       [1, 3]      500          Fly Away Home (1996)  [Adventure, Children]\n",
       "3          [0]      838  In the Line of Duty 2 (1987)               [Action]\n",
       "4          [7]     1648       Niagara, Niagara (1997)                [Drama]"
      ]
     },
     "execution_count": 4,
     "metadata": {},
     "output_type": "execute_result"
    }
   ],
   "source": [
    "# Map genres\n",
    "genre_map = {\n",
    "    0: 'Action', 1: 'Adventure', 2: 'Animation', 3: 'Children', 4: 'Comedy',\n",
    "    5: 'Crime', 6: 'Documentary', 7: 'Drama', 8: 'Fantasy', 9: 'Film-Noir',\n",
    "    10: 'Horror', 11: 'Musical', 12: 'Mystery', 13: 'Romance', 14: 'Sci-Fi',\n",
    "    15: 'Thriller', 16: 'War', 17: 'Western'\n",
    "}\n",
    "movies_df['genre_names'] = movies_df['movie_genres'].apply(lambda genre_ids: [genre_map.get(gid, 'Unknown') for gid in genre_ids])\n",
    "movies_df.head()"
   ]
  },
  {
   "cell_type": "code",
   "execution_count": 5,
   "id": "0601eb24",
   "metadata": {},
   "outputs": [],
   "source": [
    "\n",
    "df = pd.read_csv(r'C:\\Users\\EIG_Lab(1)\\Documents\\ml-100k\\ml-100k\\u.data', sep='\\t', names=cols)\n",
    "\n"
   ]
  },
  {
   "cell_type": "code",
   "execution_count": 6,
   "id": "e0d201d6",
   "metadata": {},
   "outputs": [
    {
     "data": {
      "text/html": [
       "<div>\n",
       "<style scoped>\n",
       "    .dataframe tbody tr th:only-of-type {\n",
       "        vertical-align: middle;\n",
       "    }\n",
       "\n",
       "    .dataframe tbody tr th {\n",
       "        vertical-align: top;\n",
       "    }\n",
       "\n",
       "    .dataframe thead th {\n",
       "        text-align: right;\n",
       "    }\n",
       "</style>\n",
       "<table border=\"1\" class=\"dataframe\">\n",
       "  <thead>\n",
       "    <tr style=\"text-align: right;\">\n",
       "      <th></th>\n",
       "      <th>userId</th>\n",
       "      <th>movieId</th>\n",
       "      <th>rating</th>\n",
       "      <th>timestamp</th>\n",
       "      <th>user</th>\n",
       "      <th>movie</th>\n",
       "    </tr>\n",
       "  </thead>\n",
       "  <tbody>\n",
       "    <tr>\n",
       "      <th>0</th>\n",
       "      <td>196</td>\n",
       "      <td>242</td>\n",
       "      <td>3</td>\n",
       "      <td>881250949</td>\n",
       "      <td>0</td>\n",
       "      <td>0</td>\n",
       "    </tr>\n",
       "    <tr>\n",
       "      <th>1</th>\n",
       "      <td>186</td>\n",
       "      <td>302</td>\n",
       "      <td>3</td>\n",
       "      <td>891717742</td>\n",
       "      <td>1</td>\n",
       "      <td>1</td>\n",
       "    </tr>\n",
       "    <tr>\n",
       "      <th>2</th>\n",
       "      <td>22</td>\n",
       "      <td>377</td>\n",
       "      <td>1</td>\n",
       "      <td>878887116</td>\n",
       "      <td>2</td>\n",
       "      <td>2</td>\n",
       "    </tr>\n",
       "    <tr>\n",
       "      <th>3</th>\n",
       "      <td>244</td>\n",
       "      <td>51</td>\n",
       "      <td>2</td>\n",
       "      <td>880606923</td>\n",
       "      <td>3</td>\n",
       "      <td>3</td>\n",
       "    </tr>\n",
       "    <tr>\n",
       "      <th>4</th>\n",
       "      <td>166</td>\n",
       "      <td>346</td>\n",
       "      <td>1</td>\n",
       "      <td>886397596</td>\n",
       "      <td>4</td>\n",
       "      <td>4</td>\n",
       "    </tr>\n",
       "  </tbody>\n",
       "</table>\n",
       "</div>"
      ],
      "text/plain": [
       "   userId  movieId  rating  timestamp  user  movie\n",
       "0     196      242       3  881250949     0      0\n",
       "1     186      302       3  891717742     1      1\n",
       "2      22      377       1  878887116     2      2\n",
       "3     244       51       2  880606923     3      3\n",
       "4     166      346       1  886397596     4      4"
      ]
     },
     "execution_count": 6,
     "metadata": {},
     "output_type": "execute_result"
    }
   ],
   "source": [
    "# Encode IDs\n",
    "user2user_encoded = {x: i for i, x in enumerate(df['userId'].unique())}\n",
    "movie2movie_encoded = {x: i for i, x in enumerate(df['movieId'].unique())}\n",
    "df['user'] = df['userId'].map(user2user_encoded)\n",
    "df['movie'] = df['movieId'].map(movie2movie_encoded)\n",
    "df.head()"
   ]
  },
  {
   "cell_type": "code",
   "execution_count": 7,
   "id": "1edef138",
   "metadata": {},
   "outputs": [
    {
     "data": {
      "text/plain": [
       "1682"
      ]
     },
     "execution_count": 7,
     "metadata": {},
     "output_type": "execute_result"
    }
   ],
   "source": [
    "\n",
    "num_movies = len(movie2movie_encoded)\n",
    "num_movies"
   ]
  },
  {
   "cell_type": "code",
   "execution_count": 8,
   "id": "3405176a",
   "metadata": {},
   "outputs": [
    {
     "data": {
      "text/plain": [
       "943"
      ]
     },
     "execution_count": 8,
     "metadata": {},
     "output_type": "execute_result"
    }
   ],
   "source": [
    "num_users = len(user2user_encoded)\n",
    "num_users\n"
   ]
  },
  {
   "cell_type": "code",
   "execution_count": 9,
   "id": "cc55e292",
   "metadata": {},
   "outputs": [],
   "source": [
    "# Normalize ratings\n",
    "min_rating, max_rating = df['rating'].min(), df['rating'].max()\n",
    "df['rating'] = df['rating'].apply(lambda x: (x - min_rating) / (max_rating - min_rating))"
   ]
  },
  {
   "cell_type": "code",
   "execution_count": 10,
   "id": "89b052cc",
   "metadata": {},
   "outputs": [],
   "source": [
    "# --- Train-test Split ---\n",
    "X = df[['user', 'movie']].values\n",
    "y = df['rating'].values\n",
    "x_train, x_val, y_train, y_val = train_test_split(X, y, test_size=0.1, random_state=42)"
   ]
  },
  {
   "cell_type": "code",
   "execution_count": 11,
   "id": "1a09e17e",
   "metadata": {},
   "outputs": [],
   "source": [
    "# --- Define Model ---\n",
    "class RecommenderNet(tf.keras.Model):\n",
    "    def __init__(self, num_users, num_movies, embedding_size=50):\n",
    "        super().__init__()\n",
    "        self.user_embedding = Embedding(num_users, embedding_size)\n",
    "        self.movie_embedding = Embedding(num_movies, embedding_size)\n",
    "        self.user_bias = Embedding(num_users, 1)\n",
    "        self.movie_bias = Embedding(num_movies, 1)\n",
    "\n",
    "    def call(self, inputs):\n",
    "        user_vec = self.user_embedding(inputs[:, 0])\n",
    "        movie_vec = self.movie_embedding(inputs[:, 1])\n",
    "        user_bias = self.user_bias(inputs[:, 0])\n",
    "        movie_bias = self.movie_bias(inputs[:, 1])\n",
    "        dot = tf.tensordot(user_vec, movie_vec, 2)\n",
    "        return tf.nn.sigmoid(dot + user_bias + movie_bias)\n"
   ]
  },
  {
   "cell_type": "code",
   "execution_count": 12,
   "id": "1ef9e1f9",
   "metadata": {},
   "outputs": [],
   "source": [
    "model = RecommenderNet(num_users, num_movies, embedding_size=50)"
   ]
  },
  {
   "cell_type": "code",
   "execution_count": 13,
   "id": "f019fb1a",
   "metadata": {},
   "outputs": [],
   "source": [
    "model.compile(loss='mse', optimizer=tf.keras.optimizers.Adam(learning_rate=0.001))"
   ]
  },
  {
   "cell_type": "code",
   "execution_count": 14,
   "id": "a7344beb",
   "metadata": {},
   "outputs": [],
   "source": [
    "model.compile(\n",
    "    loss='binary_crossentropy',\n",
    "    optimizer=tf.keras.optimizers.Adam(learning_rate=0.001),\n",
    "    metrics=['accuracy', tf.keras.metrics.Precision(), tf.keras.metrics.Recall()]\n",
    ")"
   ]
  },
  {
   "cell_type": "code",
   "execution_count": 15,
   "id": "5f65da54",
   "metadata": {},
   "outputs": [
    {
     "name": "stdout",
     "output_type": "stream",
     "text": [
      "Epoch 1/10\n",
      "\u001b[1m2813/2813\u001b[0m \u001b[32m━━━━━━━━━━━━━━━━━━━━\u001b[0m\u001b[37m\u001b[0m \u001b[1m16s\u001b[0m 4ms/step - accuracy: 0.2007 - loss: 0.6623 - precision: 0.9463 - recall: 0.8723 - val_accuracy: 0.2211 - val_loss: 0.6280 - val_precision: 0.9479 - val_recall: 0.9717\n",
      "Epoch 2/10\n",
      "\u001b[1m2813/2813\u001b[0m \u001b[32m━━━━━━━━━━━━━━━━━━━━\u001b[0m\u001b[37m\u001b[0m \u001b[1m25s\u001b[0m 6ms/step - accuracy: 0.2284 - loss: 0.6234 - precision: 0.9554 - recall: 0.9461 - val_accuracy: 0.2333 - val_loss: 0.6193 - val_precision: 0.9619 - val_recall: 0.8735\n",
      "Epoch 3/10\n",
      "\u001b[1m2813/2813\u001b[0m \u001b[32m━━━━━━━━━━━━━━━━━━━━\u001b[0m\u001b[37m\u001b[0m \u001b[1m18s\u001b[0m 6ms/step - accuracy: 0.2359 - loss: 0.6156 - precision: 0.9653 - recall: 0.8810 - val_accuracy: 0.2343 - val_loss: 0.6168 - val_precision: 0.9646 - val_recall: 0.8395\n",
      "Epoch 4/10\n",
      "\u001b[1m2813/2813\u001b[0m \u001b[32m━━━━━━━━━━━━━━━━━━━━\u001b[0m\u001b[37m\u001b[0m \u001b[1m14s\u001b[0m 5ms/step - accuracy: 0.2388 - loss: 0.6135 - precision: 0.9665 - recall: 0.8451 - val_accuracy: 0.2346 - val_loss: 0.6163 - val_precision: 0.9653 - val_recall: 0.8144\n",
      "Epoch 5/10\n",
      "\u001b[1m2813/2813\u001b[0m \u001b[32m━━━━━━━━━━━━━━━━━━━━\u001b[0m\u001b[37m\u001b[0m \u001b[1m10s\u001b[0m 3ms/step - accuracy: 0.2393 - loss: 0.6116 - precision: 0.9701 - recall: 0.8284 - val_accuracy: 0.2356 - val_loss: 0.6142 - val_precision: 0.9672 - val_recall: 0.7993\n",
      "Epoch 6/10\n",
      "\u001b[1m2813/2813\u001b[0m \u001b[32m━━━━━━━━━━━━━━━━━━━━\u001b[0m\u001b[37m\u001b[0m \u001b[1m11s\u001b[0m 4ms/step - accuracy: 0.2420 - loss: 0.6101 - precision: 0.9715 - recall: 0.8219 - val_accuracy: 0.2371 - val_loss: 0.6140 - val_precision: 0.9684 - val_recall: 0.7950\n",
      "Epoch 7/10\n",
      "\u001b[1m2813/2813\u001b[0m \u001b[32m━━━━━━━━━━━━━━━━━━━━\u001b[0m\u001b[37m\u001b[0m \u001b[1m11s\u001b[0m 4ms/step - accuracy: 0.2423 - loss: 0.6102 - precision: 0.9727 - recall: 0.8127 - val_accuracy: 0.2365 - val_loss: 0.6130 - val_precision: 0.9694 - val_recall: 0.7934\n",
      "Epoch 8/10\n",
      "\u001b[1m2813/2813\u001b[0m \u001b[32m━━━━━━━━━━━━━━━━━━━━\u001b[0m\u001b[37m\u001b[0m \u001b[1m12s\u001b[0m 4ms/step - accuracy: 0.2409 - loss: 0.6121 - precision: 0.9716 - recall: 0.8125 - val_accuracy: 0.2381 - val_loss: 0.6125 - val_precision: 0.9709 - val_recall: 0.7902\n",
      "Epoch 9/10\n",
      "\u001b[1m2813/2813\u001b[0m \u001b[32m━━━━━━━━━━━━━━━━━━━━\u001b[0m\u001b[37m\u001b[0m \u001b[1m12s\u001b[0m 4ms/step - accuracy: 0.2431 - loss: 0.6109 - precision: 0.9730 - recall: 0.8104 - val_accuracy: 0.2368 - val_loss: 0.6136 - val_precision: 0.9697 - val_recall: 0.7853\n",
      "Epoch 10/10\n",
      "\u001b[1m2813/2813\u001b[0m \u001b[32m━━━━━━━━━━━━━━━━━━━━\u001b[0m\u001b[37m\u001b[0m \u001b[1m10s\u001b[0m 4ms/step - accuracy: 0.2425 - loss: 0.6110 - precision: 0.9723 - recall: 0.8131 - val_accuracy: 0.2379 - val_loss: 0.6142 - val_precision: 0.9707 - val_recall: 0.7820\n"
     ]
    }
   ],
   "source": [
    "history = model.fit(\n",
    "    x=x_train,\n",
    "    y=y_train,\n",
    "    batch_size=32,\n",
    "    epochs=10,\n",
    "    verbose=1,\n",
    "    validation_data=(x_val, y_val),)"
   ]
  },
  {
   "cell_type": "code",
   "execution_count": 16,
   "id": "76f9e91c",
   "metadata": {},
   "outputs": [
    {
     "name": "stdout",
     "output_type": "stream",
     "text": [
      "\u001b[1m313/313\u001b[0m \u001b[32m━━━━━━━━━━━━━━━━━━━━\u001b[0m\u001b[37m\u001b[0m \u001b[1m1s\u001b[0m 2ms/step\n",
      "Precision: 0.65\n",
      "Recall: 0.89\n",
      "Accuracy: 0.67\n"
     ]
    }
   ],
   "source": [
    "import numpy as np\n",
    "from sklearn.metrics import precision_score, recall_score, accuracy_score\n",
    "\n",
    "# Predict probabilities\n",
    "y_pred_probs = model.predict(x_val)\n",
    "\n",
    "# Convert probabilities to binary (0 or 1)\n",
    "y_pred = (y_pred_probs > 0.5).astype(int)\n",
    "\n",
    "# Convert y_val to binary if it's not already\n",
    "y_val_binary = (y_val > 0.5).astype(int)\n",
    "\n",
    "# Now compute metrics\n",
    "precision = precision_score(y_val_binary, y_pred)\n",
    "recall = recall_score(y_val_binary, y_pred)\n",
    "accuracy = accuracy_score(y_val_binary, y_pred)\n",
    "\n",
    "print(f\"Precision: {precision:.2f}\")\n",
    "print(f\"Recall: {recall:.2f}\")\n",
    "print(f\"Accuracy: {accuracy:.2f}\")\n"
   ]
  },
  {
   "cell_type": "code",
   "execution_count": 17,
   "id": "7ee823f3",
   "metadata": {},
   "outputs": [
    {
     "name": "stdout",
     "output_type": "stream",
     "text": [
      "\u001b[1m49/49\u001b[0m \u001b[32m━━━━━━━━━━━━━━━━━━━━\u001b[0m\u001b[37m\u001b[0m \u001b[1m0s\u001b[0m 4ms/step\n"
     ]
    }
   ],
   "source": [
    "# --- Recommendation for a Random User ---\n",
    "user_id = df['userId'].sample(1).iloc[0]\n",
    "movies_watched = df[df.userId == user_id]\n",
    "not_watched = df[~df['movieId'].isin(movies_watched.movieId.values)]['movieId'].unique()\n",
    "not_watched = [[movie2movie_encoded.get(x)] for x in not_watched if x in movie2movie_encoded]\n",
    "user_encoded = user2user_encoded.get(user_id)\n",
    "user_movie_array = np.hstack(([[user_encoded]] * len(not_watched), not_watched))\n",
    "ratings = model.predict(user_movie_array).flatten()\n",
    "top_indices = ratings.argsort()[-10:][::-1]\n",
    "recommended_movie_ids = [list(movie2movie_encoded.keys())[list(movie2movie_encoded.values()).index(not_watched[x][0])] for x in top_indices]\n",
    "recommended_movies = movies_df[movies_df['movieId'].isin(recommended_movie_ids)]"
   ]
  },
  {
   "cell_type": "code",
   "execution_count": 18,
   "id": "7512df28",
   "metadata": {},
   "outputs": [
    {
     "name": "stdout",
     "output_type": "stream",
     "text": [
      "Top 10 Recommendations:\n"
     ]
    },
    {
     "data": {
      "text/html": [
       "<div>\n",
       "<style scoped>\n",
       "    .dataframe tbody tr th:only-of-type {\n",
       "        vertical-align: middle;\n",
       "    }\n",
       "\n",
       "    .dataframe tbody tr th {\n",
       "        vertical-align: top;\n",
       "    }\n",
       "\n",
       "    .dataframe thead th {\n",
       "        text-align: right;\n",
       "    }\n",
       "</style>\n",
       "<table border=\"1\" class=\"dataframe\">\n",
       "  <thead>\n",
       "    <tr style=\"text-align: right;\">\n",
       "      <th></th>\n",
       "      <th>movie_title</th>\n",
       "      <th>genre_names</th>\n",
       "    </tr>\n",
       "  </thead>\n",
       "  <tbody>\n",
       "    <tr>\n",
       "      <th>170</th>\n",
       "      <td>High Noon (1952)</td>\n",
       "      <td>[Unknown]</td>\n",
       "    </tr>\n",
       "    <tr>\n",
       "      <th>274</th>\n",
       "      <td>Dr. Strangelove or: How I Learned to Stop Worr...</td>\n",
       "      <td>[Thriller, Unknown]</td>\n",
       "    </tr>\n",
       "    <tr>\n",
       "      <th>609</th>\n",
       "      <td>Titanic (1997)</td>\n",
       "      <td>[Action, Drama, Sci-Fi]</td>\n",
       "    </tr>\n",
       "    <tr>\n",
       "      <th>635</th>\n",
       "      <td>Third Man, The (1949)</td>\n",
       "      <td>[Romance, War]</td>\n",
       "    </tr>\n",
       "    <tr>\n",
       "      <th>652</th>\n",
       "      <td>One Flew Over the Cuckoo's Nest (1975)</td>\n",
       "      <td>[Drama]</td>\n",
       "    </tr>\n",
       "    <tr>\n",
       "      <th>1072</th>\n",
       "      <td>Schindler's List (1993)</td>\n",
       "      <td>[Drama, Unknown]</td>\n",
       "    </tr>\n",
       "    <tr>\n",
       "      <th>1142</th>\n",
       "      <td>Citizen Kane (1941)</td>\n",
       "      <td>[Drama]</td>\n",
       "    </tr>\n",
       "    <tr>\n",
       "      <th>1194</th>\n",
       "      <td>Manchurian Candidate, The (1962)</td>\n",
       "      <td>[Film-Noir, War]</td>\n",
       "    </tr>\n",
       "    <tr>\n",
       "      <th>1411</th>\n",
       "      <td>Paradise Lost: The Child Murders at Robin Hood...</td>\n",
       "      <td>[Documentary]</td>\n",
       "    </tr>\n",
       "    <tr>\n",
       "      <th>1479</th>\n",
       "      <td>Shawshank Redemption, The (1994)</td>\n",
       "      <td>[Drama]</td>\n",
       "    </tr>\n",
       "  </tbody>\n",
       "</table>\n",
       "</div>"
      ],
      "text/plain": [
       "                                            movie_title  \\\n",
       "170                                    High Noon (1952)   \n",
       "274   Dr. Strangelove or: How I Learned to Stop Worr...   \n",
       "609                                      Titanic (1997)   \n",
       "635                               Third Man, The (1949)   \n",
       "652              One Flew Over the Cuckoo's Nest (1975)   \n",
       "1072                            Schindler's List (1993)   \n",
       "1142                                Citizen Kane (1941)   \n",
       "1194                   Manchurian Candidate, The (1962)   \n",
       "1411  Paradise Lost: The Child Murders at Robin Hood...   \n",
       "1479                   Shawshank Redemption, The (1994)   \n",
       "\n",
       "                  genre_names  \n",
       "170                 [Unknown]  \n",
       "274       [Thriller, Unknown]  \n",
       "609   [Action, Drama, Sci-Fi]  \n",
       "635            [Romance, War]  \n",
       "652                   [Drama]  \n",
       "1072         [Drama, Unknown]  \n",
       "1142                  [Drama]  \n",
       "1194         [Film-Noir, War]  \n",
       "1411            [Documentary]  \n",
       "1479                  [Drama]  "
      ]
     },
     "execution_count": 18,
     "metadata": {},
     "output_type": "execute_result"
    }
   ],
   "source": [
    "print(\"Top 10 Recommendations:\")\n",
    "recommended_movies[['movie_title', 'genre_names']]"
   ]
  },
  {
   "cell_type": "code",
   "execution_count": null,
   "id": "de668061",
   "metadata": {},
   "outputs": [],
   "source": []
  }
 ],
 "metadata": {
  "kernelspec": {
   "display_name": "Python 3",
   "language": "python",
   "name": "python3"
  },
  "language_info": {
   "codemirror_mode": {
    "name": "ipython",
    "version": 3
   },
   "file_extension": ".py",
   "mimetype": "text/x-python",
   "name": "python",
   "nbconvert_exporter": "python",
   "pygments_lexer": "ipython3",
   "version": "3.12.6"
  }
 },
 "nbformat": 4,
 "nbformat_minor": 5
}
